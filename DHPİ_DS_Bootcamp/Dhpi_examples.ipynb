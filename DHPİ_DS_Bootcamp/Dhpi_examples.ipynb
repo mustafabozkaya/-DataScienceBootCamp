{
  "cells": [
    {
      "cell_type": "markdown",
      "metadata": {
        "id": "view-in-github",
        "colab_type": "text"
      },
      "source": [
        "<a href=\"https://colab.research.google.com/github/mustafabozkaya/DataScienceBootCamp/blob/master/DHP%C4%B0_DS_Bootcamp/Dhpi_examples.ipynb\" target=\"_parent\"><img src=\"https://colab.research.google.com/assets/colab-badge.svg\" alt=\"Open In Colab\"/></a>"
      ]
    },
    {
      "cell_type": "markdown",
      "source": [
        "# Chapter 1\n",
        "### Your first day at your new job 👩‍💻👨‍💻\n",
        "\n",
        "You are starting a new job as a junior software developer in an IT company. \n",
        "\n",
        "The company’s HR department asks you to fill out a form, so you start by assigning your personal information to corresponding variables.\n",
        "\n",
        "📌 Create a variable for your name, surname, age, ID number, place of residence, to specify if you have active health insurance or not, and lastly one for specifying your nationality.\n"
      ],
      "metadata": {
        "id": "VMuUK0ap_bRD"
      }
    },
    {
      "cell_type": "code",
      "execution_count": null,
      "metadata": {
        "id": "OPLhhc2Sp-D0"
      },
      "outputs": [],
      "source": [
        "#Please assign your personal information to variables\n",
        "my_name=\"Mustafa\"\n",
        "my_surname=\"BOZKAYA\"\n",
        "my_age=30\n",
        "ID_number=369258147\n",
        "my_nationality=\"Kurdish\"\n",
        "where_i_live=\"Gaziantep\"\n",
        "health_insurance=True\n",
        "\n",
        "\n"
      ]
    },
    {
      "cell_type": "code",
      "source": [
        "a = \"Hello, World!\"\n",
        "print(a[1])"
      ],
      "metadata": {
        "colab": {
          "base_uri": "https://localhost:8080/"
        },
        "id": "1T5rwIO21X7-",
        "outputId": "0e20741b-1641-4438-bcf4-9dcc3dda10d0"
      },
      "execution_count": 2,
      "outputs": [
        {
          "output_type": "stream",
          "name": "stdout",
          "text": [
            "e\n"
          ]
        }
      ]
    },
    {
      "cell_type": "code",
      "source": [
        "a = \"Hello, World!\"\n",
        "print(a[-4])"
      ],
      "metadata": {
        "colab": {
          "base_uri": "https://localhost:8080/"
        },
        "id": "YkbMCoin1hoG",
        "outputId": "29aa37fa-828e-451f-df7a-c4b2e606ab3a"
      },
      "execution_count": 4,
      "outputs": [
        {
          "output_type": "stream",
          "name": "stdout",
          "text": [
            "r\n"
          ]
        }
      ]
    },
    {
      "cell_type": "code",
      "source": [
        "print(a[-5:-2])"
      ],
      "metadata": {
        "colab": {
          "base_uri": "https://localhost:8080/"
        },
        "id": "8cNf58br1lnV",
        "outputId": "213bc3ca-2640-464a-9444-8e0555b4fad5"
      },
      "execution_count": 5,
      "outputs": [
        {
          "output_type": "stream",
          "name": "stdout",
          "text": [
            "orl\n"
          ]
        }
      ]
    },
    {
      "cell_type": "code",
      "source": [
        "x = \"Python is \"\n",
        "y = \"awesome\"\n",
        "z =  x + y\n",
        "print(z)"
      ],
      "metadata": {
        "colab": {
          "base_uri": "https://localhost:8080/"
        },
        "id": "VKmRcyds1rBb",
        "outputId": "4d5ac311-db87-418c-fc50-d4a127710c19"
      },
      "execution_count": 6,
      "outputs": [
        {
          "output_type": "stream",
          "name": "stdout",
          "text": [
            "Python is awesome\n"
          ]
        }
      ]
    },
    {
      "cell_type": "code",
      "source": [
        "print(len(z))"
      ],
      "metadata": {
        "colab": {
          "base_uri": "https://localhost:8080/"
        },
        "id": "VpgMhhRZ1uml",
        "outputId": "33ece6b2-f01e-43ec-9759-65062a986ec2"
      },
      "execution_count": 7,
      "outputs": [
        {
          "output_type": "stream",
          "name": "stdout",
          "text": [
            "17\n"
          ]
        }
      ]
    },
    {
      "cell_type": "code",
      "source": [
        "z.upper()"
      ],
      "metadata": {
        "colab": {
          "base_uri": "https://localhost:8080/",
          "height": 35
        },
        "id": "yHOfwrl42SR-",
        "outputId": "1194be33-052e-4898-e4d0-c3fb3555189b"
      },
      "execution_count": 9,
      "outputs": [
        {
          "output_type": "execute_result",
          "data": {
            "text/plain": [
              "'PYTHON IS AWESOME'"
            ],
            "application/vnd.google.colaboratory.intrinsic+json": {
              "type": "string"
            }
          },
          "metadata": {},
          "execution_count": 9
        }
      ]
    },
    {
      "cell_type": "code",
      "source": [
        "\"Hello\"=='Hello'"
      ],
      "metadata": {
        "colab": {
          "base_uri": "https://localhost:8080/"
        },
        "id": "ouB_gkrz2Zjb",
        "outputId": "bc2552c9-66f1-4928-d5a5-d2b52e49f021"
      },
      "execution_count": 10,
      "outputs": [
        {
          "output_type": "execute_result",
          "data": {
            "text/plain": [
              "True"
            ]
          },
          "metadata": {},
          "execution_count": 10
        }
      ]
    },
    {
      "cell_type": "code",
      "source": [
        "type(z)"
      ],
      "metadata": {
        "colab": {
          "base_uri": "https://localhost:8080/"
        },
        "id": "op-Mz9WE2ibl",
        "outputId": "c9bb5753-4542-4bee-b662-17dfa07cb196"
      },
      "execution_count": 11,
      "outputs": [
        {
          "output_type": "execute_result",
          "data": {
            "text/plain": [
              "str"
            ]
          },
          "metadata": {},
          "execution_count": 11
        }
      ]
    },
    {
      "cell_type": "code",
      "source": [
        "x = 36 / 4 * (3 + 2) * 4 + 2\n",
        "print(x) "
      ],
      "metadata": {
        "colab": {
          "base_uri": "https://localhost:8080/"
        },
        "id": "nQnwY0xn2uHs",
        "outputId": "e1c6e07c-e26c-4e46-90b3-16cebc8f11df"
      },
      "execution_count": 12,
      "outputs": [
        {
          "output_type": "stream",
          "name": "stdout",
          "text": [
            "182.0\n"
          ]
        }
      ]
    },
    {
      "cell_type": "code",
      "source": [
        "x = 36 // 4 * (3 + 2) * 4 + 2\n",
        "print(x) "
      ],
      "metadata": {
        "colab": {
          "base_uri": "https://localhost:8080/"
        },
        "id": "QbSlKPnZ2u_9",
        "outputId": "3a0f71d3-bec9-4833-ddaf-7c809f27e92f"
      },
      "execution_count": 13,
      "outputs": [
        {
          "output_type": "stream",
          "name": "stdout",
          "text": [
            "182\n"
          ]
        }
      ]
    },
    {
      "cell_type": "code",
      "source": [
        "print (\"Hello World\")"
      ],
      "metadata": {
        "colab": {
          "base_uri": "https://localhost:8080/"
        },
        "id": "tzgWj7Ul239m",
        "outputId": "76395392-2f0c-4116-f43f-ef50675fbc79"
      },
      "execution_count": 15,
      "outputs": [
        {
          "output_type": "stream",
          "name": "stdout",
          "text": [
            "Hello World\n"
          ]
        }
      ]
    },
    {
      "cell_type": "code",
      "source": [
        "x1=int(5)\n",
        "x2=5"
      ],
      "metadata": {
        "id": "soGrIhLd3Er1"
      },
      "execution_count": 17,
      "outputs": []
    },
    {
      "cell_type": "code",
      "source": [
        "type(x1)"
      ],
      "metadata": {
        "colab": {
          "base_uri": "https://localhost:8080/"
        },
        "id": "yZAhhlBc3MKi",
        "outputId": "f5f958e9-0eaa-431b-a0aa-757ad72ea08f"
      },
      "execution_count": 18,
      "outputs": [
        {
          "output_type": "execute_result",
          "data": {
            "text/plain": [
              "int"
            ]
          },
          "metadata": {},
          "execution_count": 18
        }
      ]
    },
    {
      "cell_type": "code",
      "source": [
        "type(x2)"
      ],
      "metadata": {
        "colab": {
          "base_uri": "https://localhost:8080/"
        },
        "id": "LBk2HDfF3OIg",
        "outputId": "df018748-2ab9-4f9d-e9eb-49f9a0cf153c"
      },
      "execution_count": 19,
      "outputs": [
        {
          "output_type": "execute_result",
          "data": {
            "text/plain": [
              "int"
            ]
          },
          "metadata": {},
          "execution_count": 19
        }
      ]
    },
    {
      "cell_type": "code",
      "source": [
        "2*2**3 # üst işlemi öncelikli"
      ],
      "metadata": {
        "colab": {
          "base_uri": "https://localhost:8080/"
        },
        "id": "zAvwhf5X3U6q",
        "outputId": "227eb2de-e951-4b91-bf0c-0312c2bcd704"
      },
      "execution_count": 21,
      "outputs": [
        {
          "output_type": "execute_result",
          "data": {
            "text/plain": [
              "16"
            ]
          },
          "metadata": {},
          "execution_count": 21
        }
      ]
    },
    {
      "cell_type": "code",
      "source": [
        "z.strip()"
      ],
      "metadata": {
        "colab": {
          "base_uri": "https://localhost:8080/",
          "height": 35
        },
        "id": "Yb-CD-b_3nJl",
        "outputId": "fb3d37fc-4de2-455e-b179-2a2295c7dc47"
      },
      "execution_count": 29,
      "outputs": [
        {
          "output_type": "execute_result",
          "data": {
            "text/plain": [
              "'Python is awesome'"
            ],
            "application/vnd.google.colaboratory.intrinsic+json": {
              "type": "string"
            }
          },
          "metadata": {},
          "execution_count": 29
        }
      ]
    },
    {
      "cell_type": "code",
      "source": [
        "# Comments in python\n",
        "\"\"\"\n",
        "sgfgsdfhdfh\n",
        "\"\"\"\n",
        "#dbsdfbsfdbbpdfbjfsbsjbfıhjslhbslfdhbhsofhbnbşhsşhboşhsjbortshbtroısbnhsrtlnbhısırhnsnıolrsıbh"
      ],
      "metadata": {
        "colab": {
          "base_uri": "https://localhost:8080/",
          "height": 35
        },
        "id": "-WdjJPs12AiN",
        "outputId": "6e69c89a-1258-440a-e6b9-e20a9b571ece"
      },
      "execution_count": 30,
      "outputs": [
        {
          "output_type": "execute_result",
          "data": {
            "text/plain": [
              "'\\nsgfgsdfhdfh\\n'"
            ],
            "application/vnd.google.colaboratory.intrinsic+json": {
              "type": "string"
            }
          },
          "metadata": {},
          "execution_count": 30
        }
      ]
    },
    {
      "cell_type": "markdown",
      "source": [
        "## Strings Methods"
      ],
      "metadata": {
        "id": "vWg9p7aD5ySY"
      }
    },
    {
      "cell_type": "code",
      "source": [
        "txt = \"She said \\\"Never let go\\\".\"\n",
        "print(txt) # She said \"Never let go\"."
      ],
      "metadata": {
        "colab": {
          "base_uri": "https://localhost:8080/"
        },
        "id": "1a-AxaMW51IQ",
        "outputId": "38b208c9-fa79-47c8-aa11-38f959c8a6be"
      },
      "execution_count": 31,
      "outputs": [
        {
          "output_type": "stream",
          "name": "stdout",
          "text": [
            "She said \"Never let go\".\n"
          ]
        }
      ]
    },
    {
      "cell_type": "code",
      "source": [
        "\n",
        "game = \"Popular Nintendo Game: Mario Kart\"\n",
        "\n",
        "print(\"l\" in game) # Prints: True\n",
        "print(\"x\" in game) # Prints: False"
      ],
      "metadata": {
        "colab": {
          "base_uri": "https://localhost:8080/"
        },
        "id": "TcAGDWJz52qK",
        "outputId": "3af5df20-d418-4f9a-b4b9-090ff1c88f13"
      },
      "execution_count": 32,
      "outputs": [
        {
          "output_type": "stream",
          "name": "stdout",
          "text": [
            "True\n",
            "False\n"
          ]
        }
      ]
    },
    {
      "cell_type": "code",
      "source": [
        "str = 'yellow'\n",
        "str[1]     # => 'e'\n",
        "str[-1]    # => 'w'\n",
        "str[4:6]   # => 'ow'\n",
        "str[:4]    # => 'yell'\n",
        "str[-3:]   # => 'low'"
      ],
      "metadata": {
        "colab": {
          "base_uri": "https://localhost:8080/",
          "height": 35
        },
        "id": "CmLaClg756lX",
        "outputId": "587b521b-e133-4e0a-eae9-e45a8e189cfe"
      },
      "execution_count": 33,
      "outputs": [
        {
          "output_type": "execute_result",
          "data": {
            "text/plain": [
              "'low'"
            ],
            "application/vnd.google.colaboratory.intrinsic+json": {
              "type": "string"
            }
          },
          "metadata": {},
          "execution_count": 33
        }
      ]
    },
    {
      "cell_type": "code",
      "source": [
        "\n",
        "str = \"hello\"\n",
        "for c in str:\n",
        "  print(c)"
      ],
      "metadata": {
        "colab": {
          "base_uri": "https://localhost:8080/"
        },
        "id": "GNguXdt75-iA",
        "outputId": "053e488b-7a3d-4823-aab1-9ade301dbb25"
      },
      "execution_count": 34,
      "outputs": [
        {
          "output_type": "stream",
          "name": "stdout",
          "text": [
            "h\n",
            "e\n",
            "l\n",
            "l\n",
            "o\n"
          ]
        }
      ]
    },
    {
      "cell_type": "code",
      "source": [],
      "metadata": {
        "id": "CmreJzTl6EJL"
      },
      "execution_count": null,
      "outputs": []
    },
    {
      "cell_type": "code",
      "source": [
        "length = len(\"Hello\")\n",
        "print(length)\n",
        "# Output: 5"
      ],
      "metadata": {
        "colab": {
          "base_uri": "https://localhost:8080/"
        },
        "id": "PjGioo1Z6Kog",
        "outputId": "d7863f08-87f0-4afe-9c5e-98ce057f2093"
      },
      "execution_count": 35,
      "outputs": [
        {
          "output_type": "stream",
          "name": "stdout",
          "text": [
            "5\n"
          ]
        }
      ]
    },
    {
      "cell_type": "code",
      "source": [
        "colors = ['red', 'yellow', 'green']\n",
        "print(len(colors))\n",
        "# Output: 3"
      ],
      "metadata": {
        "colab": {
          "base_uri": "https://localhost:8080/"
        },
        "id": "Mer00YlS6Lhu",
        "outputId": "055f7f42-d7c5-4d75-b16f-e8e99464666d"
      },
      "execution_count": 36,
      "outputs": [
        {
          "output_type": "stream",
          "name": "stdout",
          "text": [
            "3\n"
          ]
        }
      ]
    },
    {
      "cell_type": "code",
      "source": [
        "\n",
        "msg1 = 'Fred scored {} out of {} points.'\n",
        "msg1.format(3, 10)\n",
        "# => 'Fred scored 3 out of 10 points.'\n"
      ],
      "metadata": {
        "colab": {
          "base_uri": "https://localhost:8080/",
          "height": 35
        },
        "id": "HuwczZYf6N5_",
        "outputId": "1b1dd012-2c6c-4ab6-ee3e-af239638b189"
      },
      "execution_count": 37,
      "outputs": [
        {
          "output_type": "execute_result",
          "data": {
            "text/plain": [
              "'Fred scored 3 out of 10 points.'"
            ],
            "application/vnd.google.colaboratory.intrinsic+json": {
              "type": "string"
            }
          },
          "metadata": {},
          "execution_count": 37
        }
      ]
    },
    {
      "cell_type": "code",
      "source": [
        "\n",
        "msg2 = 'Fred {verb} a {adjective} {noun}.'\n",
        "msg2.format(adjective='fluffy', verb='tickled', noun='hamster')\n",
        "# => 'Fred tickled a fluffy hamster.'"
      ],
      "metadata": {
        "colab": {
          "base_uri": "https://localhost:8080/",
          "height": 35
        },
        "id": "6l6PPdiq6s2H",
        "outputId": "2ad8adc1-90d1-40b2-939f-9b41425531a5"
      },
      "execution_count": 38,
      "outputs": [
        {
          "output_type": "execute_result",
          "data": {
            "text/plain": [
              "'Fred tickled a fluffy hamster.'"
            ],
            "application/vnd.google.colaboratory.intrinsic+json": {
              "type": "string"
            }
          },
          "metadata": {},
          "execution_count": 38
        }
      ]
    },
    {
      "cell_type": "code",
      "source": [
        "\n",
        "greeting = \"Welcome To Chili's\"\n",
        "\n",
        "print(greeting.lower())\n",
        "# Prints: welcome to chili's"
      ],
      "metadata": {
        "colab": {
          "base_uri": "https://localhost:8080/"
        },
        "id": "Y7vGY2ij6uD2",
        "outputId": "0fcc4c3f-ecd9-4779-882b-de1b1ccdbfa1"
      },
      "execution_count": 39,
      "outputs": [
        {
          "output_type": "stream",
          "name": "stdout",
          "text": [
            "welcome to chili's\n"
          ]
        }
      ]
    },
    {
      "cell_type": "code",
      "source": [
        "text1 = '   apples and oranges   '\n",
        "text1.strip()       # => 'apples and oranges'\n",
        "\n"
      ],
      "metadata": {
        "colab": {
          "base_uri": "https://localhost:8080/",
          "height": 35
        },
        "id": "pDhG_uvL6xTn",
        "outputId": "4c2933ab-7f0d-47f2-a1e8-0216958ca40e"
      },
      "execution_count": 40,
      "outputs": [
        {
          "output_type": "execute_result",
          "data": {
            "text/plain": [
              "'apples and oranges'"
            ],
            "application/vnd.google.colaboratory.intrinsic+json": {
              "type": "string"
            }
          },
          "metadata": {},
          "execution_count": 40
        }
      ]
    },
    {
      "cell_type": "code",
      "source": [
        "text2 = '...+...lemons and limes...-...'\n",
        "\n",
        "# Here we strip just the \".\" characters\n",
        "text2.strip('.')    # => '+...lemons and limes...-'\n",
        "\n"
      ],
      "metadata": {
        "colab": {
          "base_uri": "https://localhost:8080/",
          "height": 35
        },
        "id": "Ujg_LP-C62uh",
        "outputId": "e9d81acd-7227-419c-923e-7589e27b918a"
      },
      "execution_count": 41,
      "outputs": [
        {
          "output_type": "execute_result",
          "data": {
            "text/plain": [
              "'+...lemons and limes...-'"
            ],
            "application/vnd.google.colaboratory.intrinsic+json": {
              "type": "string"
            }
          },
          "metadata": {},
          "execution_count": 41
        }
      ]
    },
    {
      "cell_type": "code",
      "source": [
        "# Here we strip both \".\" and \"+\" characters\n",
        "text2.strip('.+')   # => 'lemons and limes...-'\n",
        "\n"
      ],
      "metadata": {
        "colab": {
          "base_uri": "https://localhost:8080/",
          "height": 35
        },
        "id": "nR2J9sF9653X",
        "outputId": "26feee22-e25e-4422-f10a-292746c834f0"
      },
      "execution_count": 42,
      "outputs": [
        {
          "output_type": "execute_result",
          "data": {
            "text/plain": [
              "'lemons and limes...-'"
            ],
            "application/vnd.google.colaboratory.intrinsic+json": {
              "type": "string"
            }
          },
          "metadata": {},
          "execution_count": 42
        }
      ]
    },
    {
      "cell_type": "code",
      "source": [
        "# Here we strip \".\", \"+\", and \"-\" characters\n",
        "text2.strip('.+-')  # => 'lemons and limes'"
      ],
      "metadata": {
        "colab": {
          "base_uri": "https://localhost:8080/",
          "height": 35
        },
        "id": "PUA9eS3_6-aX",
        "outputId": "19db3e66-d346-4e5b-f7db-0b49eb105e0b"
      },
      "execution_count": 43,
      "outputs": [
        {
          "output_type": "execute_result",
          "data": {
            "text/plain": [
              "'lemons and limes'"
            ],
            "application/vnd.google.colaboratory.intrinsic+json": {
              "type": "string"
            }
          },
          "metadata": {},
          "execution_count": 43
        }
      ]
    },
    {
      "cell_type": "code",
      "source": [
        "my_var = \"dark knight\"\n",
        "print(my_var.title()) \n",
        "\n",
        "# Prints: Dark Knight"
      ],
      "metadata": {
        "colab": {
          "base_uri": "https://localhost:8080/"
        },
        "id": "eEmOHZcJ7Gv2",
        "outputId": "6cb61dc2-745e-4b51-eb04-e83a0db8ddab"
      },
      "execution_count": 44,
      "outputs": [
        {
          "output_type": "stream",
          "name": "stdout",
          "text": [
            "Dark Knight\n"
          ]
        }
      ]
    },
    {
      "cell_type": "code",
      "source": [
        "my_var.upper()"
      ],
      "metadata": {
        "colab": {
          "base_uri": "https://localhost:8080/",
          "height": 35
        },
        "id": "TBGYM26Q7KYO",
        "outputId": "25bae4ac-f069-4911-b067-0dbc8352b7b9"
      },
      "execution_count": 45,
      "outputs": [
        {
          "output_type": "execute_result",
          "data": {
            "text/plain": [
              "'DARK KNIGHT'"
            ],
            "application/vnd.google.colaboratory.intrinsic+json": {
              "type": "string"
            }
          },
          "metadata": {},
          "execution_count": 45
        }
      ]
    },
    {
      "cell_type": "code",
      "source": [
        "my_var.lower()"
      ],
      "metadata": {
        "colab": {
          "base_uri": "https://localhost:8080/",
          "height": 35
        },
        "id": "sv0We_v17R7e",
        "outputId": "231724fa-e415-4acb-e1b8-f425a0413e97"
      },
      "execution_count": 46,
      "outputs": [
        {
          "output_type": "execute_result",
          "data": {
            "text/plain": [
              "'dark knight'"
            ],
            "application/vnd.google.colaboratory.intrinsic+json": {
              "type": "string"
            }
          },
          "metadata": {},
          "execution_count": 46
        }
      ]
    },
    {
      "cell_type": "code",
      "source": [
        "text = \"Silicon Valley\"\n",
        "\n",
        "print(text.split())     \n",
        "# Prints: ['Silicon', 'Valley']\n",
        "\n"
      ],
      "metadata": {
        "colab": {
          "base_uri": "https://localhost:8080/"
        },
        "id": "Q2j2SMQj7XD2",
        "outputId": "42f39fc7-bc9e-4c96-eb84-d5731b449f03"
      },
      "execution_count": 47,
      "outputs": [
        {
          "output_type": "stream",
          "name": "stdout",
          "text": [
            "['Silicon', 'Valley']\n"
          ]
        }
      ]
    },
    {
      "cell_type": "code",
      "source": [
        "print(text.split('i'))  \n",
        "# Prints: ['S', 'l', 'con Valley']"
      ],
      "metadata": {
        "colab": {
          "base_uri": "https://localhost:8080/"
        },
        "id": "rzE3Htxs7Zfm",
        "outputId": "eb252658-d2ae-4917-a355-02948b11c12f"
      },
      "execution_count": 48,
      "outputs": [
        {
          "output_type": "stream",
          "name": "stdout",
          "text": [
            "['S', 'l', 'con Valley']\n"
          ]
        }
      ]
    },
    {
      "cell_type": "code",
      "source": [
        "mountain_name = \"Mount Kilimanjaro\"\n",
        "print(mountain_name.find(\"o\")) # Prints 1 in the console."
      ],
      "metadata": {
        "colab": {
          "base_uri": "https://localhost:8080/"
        },
        "id": "i1XWdpOF7aNo",
        "outputId": "1285144f-c421-46fa-d8a5-03b7c027d2f9"
      },
      "execution_count": 49,
      "outputs": [
        {
          "output_type": "stream",
          "name": "stdout",
          "text": [
            "1\n"
          ]
        }
      ]
    },
    {
      "cell_type": "code",
      "source": [
        "fruit = \"Strawberry\"\n",
        "print(fruit.replace('r', 'R'))\n",
        "\n",
        "# StRawbeRRy"
      ],
      "metadata": {
        "colab": {
          "base_uri": "https://localhost:8080/"
        },
        "id": "ZemsAGAO7feO",
        "outputId": "44c163a0-a53c-4b6e-9fa8-910a521eff22"
      },
      "execution_count": 50,
      "outputs": [
        {
          "output_type": "stream",
          "name": "stdout",
          "text": [
            "StRawbeRRy\n"
          ]
        }
      ]
    },
    {
      "cell_type": "code",
      "source": [
        "x = \"-\".join([\"Codecademy\", \"is\", \"awesome\"])\n",
        "\n",
        "print(x) \n",
        "# Prints: Codecademy-is-awesome"
      ],
      "metadata": {
        "colab": {
          "base_uri": "https://localhost:8080/"
        },
        "id": "5vPUUNGQ7h_D",
        "outputId": "be35018d-11cd-412b-b207-487d0bc0b21f"
      },
      "execution_count": 51,
      "outputs": [
        {
          "output_type": "stream",
          "name": "stdout",
          "text": [
            "Codecademy-is-awesome\n"
          ]
        }
      ]
    },
    {
      "cell_type": "code",
      "source": [],
      "metadata": {
        "id": "rdpzg0UO7qZR"
      },
      "execution_count": null,
      "outputs": []
    },
    {
      "cell_type": "code",
      "source": [],
      "metadata": {
        "id": "yOfCtPIe7iCo"
      },
      "execution_count": 49,
      "outputs": []
    },
    {
      "cell_type": "code",
      "source": [],
      "metadata": {
        "id": "ei6HUZ-n7iGp"
      },
      "execution_count": 49,
      "outputs": []
    },
    {
      "cell_type": "code",
      "source": [],
      "metadata": {
        "id": "9oHfj4Pp7iIq"
      },
      "execution_count": 49,
      "outputs": []
    },
    {
      "cell_type": "code",
      "source": [],
      "metadata": {
        "id": "6PDcpaUD7iLY"
      },
      "execution_count": 49,
      "outputs": []
    },
    {
      "cell_type": "code",
      "source": [],
      "metadata": {
        "id": "OVKu5MrK7iN_"
      },
      "execution_count": 49,
      "outputs": []
    },
    {
      "cell_type": "code",
      "source": [],
      "metadata": {
        "id": "DiZnw7Aj7iQq"
      },
      "execution_count": null,
      "outputs": []
    },
    {
      "cell_type": "markdown",
      "source": [
        "## Lists and Tuples"
      ],
      "metadata": {
        "id": "rvNfQDq64gZz"
      }
    },
    {
      "cell_type": "code",
      "source": [
        "A = [\"Brush\", \"Leuven\", 48851964400, 3.14, \"Mom\"]\n",
        "A"
      ],
      "metadata": {
        "colab": {
          "base_uri": "https://localhost:8080/"
        },
        "id": "arA4H3iM4e-i",
        "outputId": "657b3325-b563-498c-e5c8-ae512afbbad1"
      },
      "execution_count": 55,
      "outputs": [
        {
          "output_type": "execute_result",
          "data": {
            "text/plain": [
              "['Brush', 'Leuven', 48851964400, 3.14, 'Mom']"
            ]
          },
          "metadata": {},
          "execution_count": 55
        }
      ]
    },
    {
      "cell_type": "code",
      "source": [
        "A.append(\"whatever\")\n",
        "A"
      ],
      "metadata": {
        "colab": {
          "base_uri": "https://localhost:8080/"
        },
        "id": "MXh-Yd6J8xX_",
        "outputId": "b2170a6a-3913-4ae9-cd52-0bde75b8efb1"
      },
      "execution_count": 56,
      "outputs": [
        {
          "output_type": "execute_result",
          "data": {
            "text/plain": [
              "['Brush', 'Leuven', 48851964400, 3.14, 'Mom', 'whatever']"
            ]
          },
          "metadata": {},
          "execution_count": 56
        }
      ]
    },
    {
      "cell_type": "code",
      "source": [
        "A.count(\"what\")"
      ],
      "metadata": {
        "colab": {
          "base_uri": "https://localhost:8080/"
        },
        "id": "hRz4kGnG84K2",
        "outputId": "f73c044e-e989-40f1-8999-d967dcb6d72f"
      },
      "execution_count": 57,
      "outputs": [
        {
          "output_type": "execute_result",
          "data": {
            "text/plain": [
              "0"
            ]
          },
          "metadata": {},
          "execution_count": 57
        }
      ]
    },
    {
      "cell_type": "code",
      "source": [
        "len(A)"
      ],
      "metadata": {
        "colab": {
          "base_uri": "https://localhost:8080/"
        },
        "id": "zlRV2cGF9DEf",
        "outputId": "0f087d0e-989d-441c-97d7-9f6b49a905f4"
      },
      "execution_count": 59,
      "outputs": [
        {
          "output_type": "execute_result",
          "data": {
            "text/plain": [
              "6"
            ]
          },
          "metadata": {},
          "execution_count": 59
        }
      ]
    },
    {
      "cell_type": "code",
      "source": [
        "aTuple = (\"Orange\",)\n",
        "print(type(aTuple))"
      ],
      "metadata": {
        "colab": {
          "base_uri": "https://localhost:8080/"
        },
        "id": "PS3RJv7s82W9",
        "outputId": "22ea4a22-ad33-416f-8625-0602c968c3f0"
      },
      "execution_count": 62,
      "outputs": [
        {
          "output_type": "stream",
          "name": "stdout",
          "text": [
            "<class 'tuple'>\n"
          ]
        }
      ]
    },
    {
      "cell_type": "code",
      "source": [
        "aTuple = (\"Orange\",\"what\")\n",
        "print(type(aTuple))"
      ],
      "metadata": {
        "colab": {
          "base_uri": "https://localhost:8080/"
        },
        "id": "vtatP8Mm9bZV",
        "outputId": "bdaa41ee-37df-4864-8ab2-fe4c58ad8e93"
      },
      "execution_count": 63,
      "outputs": [
        {
          "output_type": "stream",
          "name": "stdout",
          "text": [
            "<class 'tuple'>\n"
          ]
        }
      ]
    },
    {
      "cell_type": "code",
      "source": [
        "atuple=45,\"merhaba\",12\n",
        "a,b,c=atuple"
      ],
      "metadata": {
        "id": "nzEuBfwZ9tmJ"
      },
      "execution_count": 65,
      "outputs": []
    },
    {
      "cell_type": "code",
      "source": [
        "a"
      ],
      "metadata": {
        "colab": {
          "base_uri": "https://localhost:8080/"
        },
        "id": "UUD2_ORK93co",
        "outputId": "30db87a9-42ba-4103-e122-9aa856ab9a0d"
      },
      "execution_count": 66,
      "outputs": [
        {
          "output_type": "execute_result",
          "data": {
            "text/plain": [
              "45"
            ]
          },
          "metadata": {},
          "execution_count": 66
        }
      ]
    },
    {
      "cell_type": "code",
      "source": [
        "b"
      ],
      "metadata": {
        "colab": {
          "base_uri": "https://localhost:8080/",
          "height": 35
        },
        "id": "s3kSbaGj94LK",
        "outputId": "8b33731e-8606-4569-8bbd-92771f2fd318"
      },
      "execution_count": 67,
      "outputs": [
        {
          "output_type": "execute_result",
          "data": {
            "text/plain": [
              "'merhaba'"
            ],
            "application/vnd.google.colaboratory.intrinsic+json": {
              "type": "string"
            }
          },
          "metadata": {},
          "execution_count": 67
        }
      ]
    },
    {
      "cell_type": "code",
      "source": [
        "c"
      ],
      "metadata": {
        "colab": {
          "base_uri": "https://localhost:8080/"
        },
        "id": "0FQyUh0G948M",
        "outputId": "119aa5dc-f609-4e6d-b1e0-f798bf70ed92"
      },
      "execution_count": 68,
      "outputs": [
        {
          "output_type": "execute_result",
          "data": {
            "text/plain": [
              "12"
            ]
          },
          "metadata": {},
          "execution_count": 68
        }
      ]
    },
    {
      "cell_type": "code",
      "source": [
        "lst = [3,4,6,1,2]\n",
        "lst[1:2] = [7,8]\n",
        "print(lst)"
      ],
      "metadata": {
        "colab": {
          "base_uri": "https://localhost:8080/"
        },
        "id": "FZ4KoPFQ954P",
        "outputId": "93db2193-2e69-4300-c8db-7469d68239e4"
      },
      "execution_count": 69,
      "outputs": [
        {
          "output_type": "stream",
          "name": "stdout",
          "text": [
            "[3, 7, 8, 6, 1, 2]\n"
          ]
        }
      ]
    },
    {
      "cell_type": "code",
      "source": [
        "list1=[]*3"
      ],
      "metadata": {
        "id": "mOCyX0ki-VV3"
      },
      "execution_count": 71,
      "outputs": []
    },
    {
      "cell_type": "code",
      "source": [
        "list=[]"
      ],
      "metadata": {
        "id": "Owd1LkJj-f8W"
      },
      "execution_count": 72,
      "outputs": []
    },
    {
      "cell_type": "code",
      "source": [],
      "metadata": {
        "id": "oLHCRsmU-iBK"
      },
      "execution_count": null,
      "outputs": []
    },
    {
      "cell_type": "code",
      "source": [],
      "metadata": {
        "id": "kzLMOyet-d82"
      },
      "execution_count": null,
      "outputs": []
    },
    {
      "cell_type": "markdown",
      "source": [
        "## Loops and Range\n",
        "### Learning Objectives\n",
        " * While loop\n",
        " * For loop\n",
        " * Enumerate\n",
        " * Range\n",
        "\n",
        " [Loops cheatsheets](https://www.codecademy.com/learn/learn-python-3/modules/learn-python3-loops/cheatsheet)"
      ],
      "metadata": {
        "id": "G-h-fOpr-2Av"
      }
    },
    {
      "cell_type": "code",
      "source": [
        "list1 = [12, 15, 32, 42, 55, 75, 122, 132, 150, 180, 200]\n",
        "for i,item in enumerate(list1):\n",
        "  print(f\"{i+1} . item is :{item}\")"
      ],
      "metadata": {
        "colab": {
          "base_uri": "https://localhost:8080/"
        },
        "id": "HuFpIaGMAmCC",
        "outputId": "c682cef9-9da5-481b-ccdc-372c81c80276"
      },
      "execution_count": 78,
      "outputs": [
        {
          "output_type": "stream",
          "name": "stdout",
          "text": [
            "1 . item is :12\n",
            "2 . item is :15\n",
            "3 . item is :32\n",
            "4 . item is :42\n",
            "5 . item is :55\n",
            "6 . item is :75\n",
            "7 . item is :122\n",
            "8 . item is :132\n",
            "9 . item is :150\n",
            "10 . item is :180\n",
            "11 . item is :200\n"
          ]
        }
      ]
    },
    {
      "cell_type": "code",
      "source": [],
      "metadata": {
        "id": "PqigS4JoBFK2"
      },
      "execution_count": null,
      "outputs": []
    },
    {
      "cell_type": "code",
      "source": [
        "for number in lst:\n",
        "  print(number*5)"
      ],
      "metadata": {
        "colab": {
          "base_uri": "https://localhost:8080/"
        },
        "id": "KW414pMz_K7-",
        "outputId": "9302f77b-0249-46fd-8053-bf4a3792b600"
      },
      "execution_count": 75,
      "outputs": [
        {
          "output_type": "stream",
          "name": "stdout",
          "text": [
            "15\n",
            "35\n",
            "40\n",
            "30\n",
            "5\n",
            "10\n"
          ]
        }
      ]
    },
    {
      "cell_type": "code",
      "source": [
        "\n",
        "numbers = [0, 254, 2, -1, 3]\n",
        "\n",
        "for num in numbers:\n",
        "  if (num < 0):\n",
        "    print(\"Negative number detected!\")\n",
        "    break\n",
        "  print(num)\n",
        "  \n",
        "# 0\n",
        "# 254\n",
        "# 2\n",
        "# Negative number detected!"
      ],
      "metadata": {
        "colab": {
          "base_uri": "https://localhost:8080/"
        },
        "id": "OSqpSmxu_lqd",
        "outputId": "04517316-7a2d-44eb-a388-dce58460b45c"
      },
      "execution_count": 76,
      "outputs": [
        {
          "output_type": "stream",
          "name": "stdout",
          "text": [
            "0\n",
            "254\n",
            "2\n",
            "Negative number detected!\n"
          ]
        }
      ]
    },
    {
      "cell_type": "code",
      "source": [
        "\n",
        "# List comprehension for the squares of all even numbers between 0 and 9\n",
        "result = [x**2 for x in range(10) if x % 2 == 0]\n",
        "\n",
        "print(result)\n",
        "# [0, 4, 16, 36, 64]"
      ],
      "metadata": {
        "colab": {
          "base_uri": "https://localhost:8080/"
        },
        "id": "Xixzr-tBAUDl",
        "outputId": "d6e22ea3-2813-4ee3-ee46-d725041d9c53"
      },
      "execution_count": 77,
      "outputs": [
        {
          "output_type": "stream",
          "name": "stdout",
          "text": [
            "[0, 4, 16, 36, 64]\n"
          ]
        }
      ]
    },
    {
      "cell_type": "code",
      "source": [
        "for num in range(2,-5,-1):\n",
        "\n",
        "  print(num, end = \",\")"
      ],
      "metadata": {
        "colab": {
          "base_uri": "https://localhost:8080/"
        },
        "id": "TsjvDCdLAap3",
        "outputId": "b1df595d-f171-4d4b-e042-ef4f7a518b07"
      },
      "execution_count": 79,
      "outputs": [
        {
          "output_type": "stream",
          "name": "stdout",
          "text": [
            "2,1,0,-1,-2,-3,-4,"
          ]
        }
      ]
    },
    {
      "cell_type": "code",
      "source": [
        "x=[\"abc\",\"def\"]\n",
        "for i in x:\n",
        "  print(i.upper())\n",
        "\n",
        "x"
      ],
      "metadata": {
        "colab": {
          "base_uri": "https://localhost:8080/"
        },
        "id": "kzk35eAoBx_h",
        "outputId": "25f92cf0-fdd5-4d7a-aab9-e35ba3ff6573"
      },
      "execution_count": 81,
      "outputs": [
        {
          "output_type": "stream",
          "name": "stdout",
          "text": [
            "ABC\n",
            "DEF\n"
          ]
        },
        {
          "output_type": "execute_result",
          "data": {
            "text/plain": [
              "['abc', 'def']"
            ]
          },
          "metadata": {},
          "execution_count": 81
        }
      ]
    },
    {
      "cell_type": "code",
      "source": [],
      "metadata": {
        "id": "pKeHDR7O_fQc"
      },
      "execution_count": null,
      "outputs": []
    },
    {
      "cell_type": "code",
      "source": [],
      "metadata": {
        "id": "Wu37M7K7_cKV"
      },
      "execution_count": null,
      "outputs": []
    },
    {
      "cell_type": "markdown",
      "metadata": {
        "id": "3zaUlxwcp-D0"
      },
      "source": [
        "###Meet And Greet\n",
        "Introduce yourself to your new co-workers.\n",
        "\n",
        "📌 Use a f-string to print \"My name is Joey Tribbiani I am 25 years old and I live in London”."
      ]
    },
    {
      "cell_type": "code",
      "source": [],
      "metadata": {
        "id": "gi8skGOc_J_G"
      },
      "execution_count": null,
      "outputs": []
    },
    {
      "cell_type": "code",
      "source": [
        "#Write a sentence using the print function to describe yourself using the variables above in the correct data type\n",
        "print(f\" My name is {my_name} {my_surname}  .I am {str(my_age)} years old  and I live in {where_i_live}\")\n"
      ],
      "metadata": {
        "id": "XNuh5_2WXwvg",
        "colab": {
          "base_uri": "https://localhost:8080/"
        },
        "outputId": "021f1e2d-f375-4560-bc1d-a19bf91f5bd9"
      },
      "execution_count": null,
      "outputs": [
        {
          "output_type": "stream",
          "name": "stdout",
          "text": [
            " My name is Mustafa BOZKAYA  .I am 30 years old  and I live in Gaziantep\n"
          ]
        }
      ]
    },
    {
      "cell_type": "markdown",
      "metadata": {
        "id": "EEL9To4ip-D1"
      },
      "source": [
        "### Equipment starter pack\n",
        "The HR department asks you to list the items you would need to improve your work efficiency\n",
        "\n",
        "Mandatory:\n",
        "* Laptop\n",
        "* Headset\n",
        "* Second monitor\n",
        "\n",
        "Optional:\n",
        "* Mousepad\n",
        "* USB drive\n",
        "* External drive\n",
        "\n",
        "\n",
        "📌 Create a shopping list that contains items above and print it."
      ]
    },
    {
      "cell_type": "code",
      "execution_count": null,
      "metadata": {
        "id": "fPFBLDyqp-D2"
      },
      "outputs": [],
      "source": [
        "#Create the item_list\n",
        "requirement_list=[\"laptop\",\"headset\",\"second monitor\",\"mousepad\",\"usb driver\",\"external drive\"]\n"
      ]
    },
    {
      "cell_type": "code",
      "source": [
        "#Print the list\n",
        "print(*requirement_list,sep=\";\")\n"
      ],
      "metadata": {
        "id": "358R_CN5U2-J",
        "colab": {
          "base_uri": "https://localhost:8080/"
        },
        "outputId": "4fe9caf1-cda7-444a-8571-045a08ecdeea"
      },
      "execution_count": null,
      "outputs": [
        {
          "output_type": "stream",
          "name": "stdout",
          "text": [
            "laptop;headset;second monitor;mousepad;usb driver;external drive\n"
          ]
        }
      ]
    },
    {
      "cell_type": "markdown",
      "metadata": {
        "id": "5keEWjCyp-D2"
      },
      "source": [
        "####What is mandatory and what is optional?\n",
        "\n",
        "📌 Use list slicing to devide your list in two list: 'mandatory_item_list' and 'optional_item_list' and print both to the screen."
      ]
    },
    {
      "cell_type": "code",
      "execution_count": null,
      "metadata": {
        "id": "E6ewuDYZp-D2"
      },
      "outputs": [],
      "source": [
        "#Use list slicing to divide the mandatory items\n",
        "mandatory_items=requirement_list[:3]\n"
      ]
    },
    {
      "cell_type": "code",
      "source": [
        "#Use list slicing to divide the optional items\n",
        "optional_items=requirement_list[:2:-1]\n"
      ],
      "metadata": {
        "id": "hOmkym01RGEL"
      },
      "execution_count": null,
      "outputs": []
    },
    {
      "cell_type": "code",
      "source": [
        "#Print both to the screen\n",
        "print(*mandatory_items,sep=\"-m-\")\n",
        "print(50*\"=\")\n",
        "print(optional_items)"
      ],
      "metadata": {
        "id": "xsVv1_msVE1_",
        "colab": {
          "base_uri": "https://localhost:8080/"
        },
        "outputId": "e69c93e3-9c58-4900-da2a-b3ad5e83b4a3"
      },
      "execution_count": null,
      "outputs": [
        {
          "output_type": "stream",
          "name": "stdout",
          "text": [
            "laptop-m-headset-m-second monitor\n",
            "==================================================\n",
            "['external drive', 'usb driver', 'mousepad']\n"
          ]
        }
      ]
    },
    {
      "cell_type": "markdown",
      "metadata": {
        "id": "s_M1Q93wp-D3"
      },
      "source": [
        "#### Go Shopping\n",
        "Next, you will have to go and purchase these items, the finance department confirmed a budget of $5000.\n",
        "\n",
        "📌 Assign 5000 to a variable called limit, so you know how much you can spend."
      ]
    },
    {
      "cell_type": "code",
      "execution_count": null,
      "metadata": {
        "id": "nCmpm0oqp-D3"
      },
      "outputs": [],
      "source": [
        "#Assign the spending limit value to a variable called limit\n",
        "budget=5000 # $\n"
      ]
    },
    {
      "cell_type": "markdown",
      "metadata": {
        "id": "VwbEEymVp-D3"
      },
      "source": [
        "####Price dictionary\n",
        "\n",
        "Before you start shopping yo need to find the best items that you can buy within the company budget. \n",
        "\n",
        "📌 Prepare a dictionary called “price_sheet” that includes the items as keys and the prices as values.  \n",
        " "
      ]
    },
    {
      "cell_type": "code",
      "execution_count": null,
      "metadata": {
        "id": "9o9n9Ag-p-D3",
        "colab": {
          "base_uri": "https://localhost:8080/"
        },
        "outputId": "f37688b3-171e-4936-b1bf-5d172d596eaf"
      },
      "outputs": [
        {
          "output_type": "stream",
          "name": "stdout",
          "text": [
            "{'laptop': 1500, 'headset': 1650, 'second monitor': 1800, 'mousepad': 1950, 'usb driver': 2100, 'external drive': 2250}\n"
          ]
        }
      ],
      "source": [
        "#Create a dictionary that contains each item and its price\n",
        "price_list={\n",
        "   f\"{item}\" : (int(i)+10)*150 for i,item in enumerate(requirement_list)\n",
        "}\n",
        "\n",
        "print(price_list)\n"
      ]
    },
    {
      "cell_type": "markdown",
      "metadata": {
        "id": "rUYivBVEBhCv"
      },
      "source": [
        "####Shopping functions\n",
        "\n",
        "You need to define three functions that will help you during shopping.\n",
        "\n",
        "📌 First, create an empty list that  will be your shopping cart. Here you will add the items you need to purchase.\n",
        "\n",
        "1. Define a function for both adding items to the cart and removing them from the item_list.\n",
        "\n",
        "📌 The \"add_to_cart\" function should take the item name and the quantity to buy as an argument. \n",
        "\n",
        "2. Define a function that will create an invoice. \n",
        "\n",
        "📌 The \"create_invoice\" function should calculate the taxes of each item (18%) and add it to the total amount.\n",
        "\n",
        "3. Define a function for the checkout. \n",
        "\n",
        "📌 The \"checkout\" function should subtract the total amount from the budget and print a statement to inform if the payment was successful. "
      ]
    },
    {
      "cell_type": "code",
      "source": [
        "#Initialize the cart list\n",
        "cart_list=[]"
      ],
      "metadata": {
        "id": "dBNZ2ZdkGHUe"
      },
      "execution_count": null,
      "outputs": []
    },
    {
      "cell_type": "code",
      "source": [],
      "metadata": {
        "id": "7CdiwVSY6beX"
      },
      "execution_count": null,
      "outputs": []
    },
    {
      "cell_type": "code",
      "source": [
        "#Define the \"add_to_cart\" function\n",
        "def addTheCart(item,quantity):\n",
        "  \n",
        "  cart_list.append((item,quantity))\n",
        "  requirement_list.remove(item)\n",
        "  \n"
      ],
      "metadata": {
        "id": "HH26hHHFGKPJ"
      },
      "execution_count": null,
      "outputs": []
    },
    {
      "cell_type": "code",
      "source": [
        "#Define the \"create_invoice\" function\n",
        "def get_invoice():\n",
        "\n",
        "  total_amount=0\n",
        "  total_price=0\n",
        "\n",
        "\n",
        "  for  c_item,quant in cart_list:\n",
        "    \n",
        "        price=price_list[c_item]\n",
        "        all_price=quant*price\n",
        "        all_taxe=all_price*0.18\n",
        "        total_price+=all_price\n",
        "        total_amount+=(all_price+all_taxe)\n",
        "\n",
        "        print(f\" item :{c_item}   price :{price}  quantity : {quant} \\t all taxe(%18*price) : {all_taxe} \\t all price(*quantity) :{all_price}  total price(taxe+price) :{all_taxe+all_price}\")\n",
        "        \n",
        "  \n",
        "  print(f\" total price() : {total_price} \\t total taxe(%18*total_price) : {total_amount- total_price} \\t  total amount(taxe+price) :{total_amount}\")\n",
        "        \n",
        "\n",
        "\n",
        "  return total_amount\n",
        "\n"
      ],
      "metadata": {
        "id": "TUmNr4xVGQdm"
      },
      "execution_count": null,
      "outputs": []
    },
    {
      "cell_type": "code",
      "source": [
        "#Define the \"checkout\" function\n",
        "\n",
        "def checkout_budget():\n",
        "  global budget\n",
        "  total_amount=get_invoice()\n",
        "\n",
        "  if budget==0:\n",
        "    print(\"you have no limit\")\n",
        "  elif (total_amount<=budget):\n",
        "    print( \"yes you have all of this items ,your payments total {}  your  budgets {}\".format(total_amount,budget))\n",
        "\n",
        "  else:\n",
        "    print( \"NO, you dont buy all of this items drop some items ,your payments total {} much than budgets {}\".format(total_amount,budget))\n",
        "\n",
        "\n"
      ],
      "metadata": {
        "id": "iUlKiXgMGdIk"
      },
      "execution_count": null,
      "outputs": []
    },
    {
      "cell_type": "markdown",
      "source": [
        "Let's shop!"
      ],
      "metadata": {
        "id": "2IFUlu0yB0In"
      }
    },
    {
      "cell_type": "code",
      "source": [
        "#Call the \"add_to_cart\" function for each item\n",
        " \n",
        "#Add first item to cart\n",
        "addTheCart(\"laptop\",1)\n",
        "\n",
        " \n",
        "#Add second item to cart\n",
        "addTheCart(\"headset\",2)\n",
        " \n",
        "#Add third item to cart\n",
        "addTheCart(\"second monitor\",1)\n",
        " \n",
        "#Add fourth item to cart\n",
        "addTheCart(\"usb driver\",2)\n",
        "\n",
        "#Add fifth item to cart\n",
        "addTheCart(\"mousepad\",2)\n",
        "\n",
        " \n",
        "#Add last item to cart\n",
        "addTheCart(\"external drive\",2)\n",
        " \n",
        "#Call the create \"checkout\" function to pay for all your items \n",
        "checkout_budget()\n"
      ],
      "metadata": {
        "id": "FDO7CRJTWPg7",
        "colab": {
          "base_uri": "https://localhost:8080/"
        },
        "outputId": "f83109c1-18ca-45a8-894e-2715a55d8d80"
      },
      "execution_count": null,
      "outputs": [
        {
          "output_type": "stream",
          "name": "stdout",
          "text": [
            " item :laptop   price :1500  quantity : 1 \t all taxe(%18*price) : 270.0 \t all price(*quantity) :1500  total price(taxe+price) :1770.0\n",
            " item :headset   price :1650  quantity : 2 \t all taxe(%18*price) : 594.0 \t all price(*quantity) :3300  total price(taxe+price) :3894.0\n",
            " item :second monitor   price :1800  quantity : 1 \t all taxe(%18*price) : 324.0 \t all price(*quantity) :1800  total price(taxe+price) :2124.0\n",
            " item :usb driver   price :2100  quantity : 2 \t all taxe(%18*price) : 756.0 \t all price(*quantity) :4200  total price(taxe+price) :4956.0\n",
            " item :mousepad   price :1950  quantity : 2 \t all taxe(%18*price) : 702.0 \t all price(*quantity) :3900  total price(taxe+price) :4602.0\n",
            " item :external drive   price :2250  quantity : 2 \t all taxe(%18*price) : 810.0 \t all price(*quantity) :4500  total price(taxe+price) :5310.0\n",
            " total price() : 19200 \t total taxe(%18*total_price) : 3456.0 \t  total amount(taxe+price) :22656.0\n",
            "NO, you dont buy all of this items drop some items ,your payments total 22656.0 much than budgets 5000\n"
          ]
        }
      ]
    },
    {
      "cell_type": "markdown",
      "source": [
        "###Game Night\n",
        "\n",
        "You are back at the office and the HR department organizes a welcome party for new employees. \n",
        "\n",
        "You decide to create a Rock-Paper-Scissor game. \n",
        "\n",
        "📌 Create a Rock-Paper-Scissor game in which the user plays against the computer. The player will choose one of the actions, and the computer will choose its action randomly.\n"
      ],
      "metadata": {
        "id": "ZL-r2x_xKixg"
      }
    },
    {
      "cell_type": "code",
      "source": [
        "#Import the random library\n",
        "import random"
      ],
      "metadata": {
        "id": "qzD5pxBTgcFb"
      },
      "execution_count": null,
      "outputs": []
    },
    {
      "cell_type": "code",
      "source": [
        "#create a list containing the three actions of the game.\n",
        "actions=\"Rock-Paper-Scissor\"\n",
        "\n",
        "action_list=actions.split(\"-\")\n",
        "\n",
        "action_list\n"
      ],
      "metadata": {
        "id": "oJv-ihLAgcRo",
        "colab": {
          "base_uri": "https://localhost:8080/"
        },
        "outputId": "c7e6c813-6cc8-4373-c8d0-422d3bb79f9e"
      },
      "execution_count": null,
      "outputs": [
        {
          "output_type": "execute_result",
          "data": {
            "text/plain": [
              "['Rock', 'Paper', 'Scissor']"
            ]
          },
          "metadata": {},
          "execution_count": 16
        }
      ]
    },
    {
      "cell_type": "code",
      "source": [
        "#Set the scores of players to 0\n",
        "player_score=0\n",
        "computer_score=0\n",
        "\n",
        "\n",
        "#Ask the user how many rounds they want to play\n",
        "rounds=int(input(\"how many rounds you want to play,enter number\"))\n",
        "\n",
        "#Add a round_counter that is 0 at the beginning\n",
        "round=0\n",
        "\n",
        "#Write a while loop and put the game inside\n",
        "while True:\n",
        "\n",
        "\n",
        "  #Increase round_counter by and print it\n",
        "  round+=1\n",
        "  print(\"-\"*50)\n",
        "  print(f\"round :{round}\")\n",
        "  \n",
        "\n",
        "  #Select a random action for computer\n",
        "  computer_choice=random.choice(action_list)\n",
        "  \n",
        "\n",
        "  #Ask player to choose an action\n",
        "  player_choice=input(\"Select action from list [ paper,rock,scissor]\")\n",
        "  \n",
        "\n",
        "  #Print the players choices\n",
        "  print(\"=\"*50)\n",
        "  print(\"computer choice :{}\".format(computer_choice))\n",
        "  print(\"player choice :{}\".format(player_choice))\n",
        "  print(\"=\"*50)\n",
        "  \n",
        "\n",
        "\n",
        "\n",
        "  #tie condition\n",
        "  if str.lower(computer_choice)==str.lower(player_choice):\n",
        "    print(\"wow ,you choice same action;no problem try again \")\n",
        "\n",
        "\n",
        "  #Remaining conditions\n",
        "  elif computer_choice.lower()==\"scissor\":\n",
        "    if player_choice.lower==\"paper\":\n",
        "      computer_score+=1\n",
        "      print(\"computer win\")\n",
        "    else:\n",
        "      player_score+=1\n",
        "      print(\"player  win\")\n",
        "  \n",
        "  elif computer_choice.lower()==\"paper\":\n",
        "    if player_choice.lower==\"rock\":\n",
        "      computer_score+=1\n",
        "      print(\"computer win\")\n",
        "    else:\n",
        "      player_score+=1\n",
        "      print(\"player  win\")\n",
        "\n",
        "  elif computer_choice.lower()==\"rock\":\n",
        "    if player_choice.lower==\"scissor\":\n",
        "      computer_score+=1\n",
        "      print(\"computer win\")\n",
        "    else:\n",
        "      player_score+=1\n",
        "      print(\"player  win\")\n",
        "\n",
        "\n",
        "  #Stop the while loop if the round_counter equals the number of total rounds\n",
        "  \n",
        "  if round==rounds:\n",
        "    break\n",
        "\n",
        "#Print the outcome of the game by using conditional statements\n",
        "print(\"total scores\")\n",
        "print(\"*\"*50)\n",
        "if computer_score==player_score:\n",
        "  print(\"unfourtunatly ,no winner  computer :{computer_score} , player :{ player_score}\")\n",
        "  \n",
        "  \n",
        "elif computer_score<player_score:\n",
        "  print(f\"player win : {player_score} :{ computer_score }\")\n",
        "else:\n",
        "  print(f\"computer win : {computer_score} : { player_score}\")\n",
        "\n",
        "print(\"*\"*50)\n"
      ],
      "metadata": {
        "id": "DNUa_9afWqMd",
        "colab": {
          "base_uri": "https://localhost:8080/"
        },
        "outputId": "ddf28b1c-ff8b-409f-b49a-504b2d3c21b0"
      },
      "execution_count": null,
      "outputs": [
        {
          "output_type": "stream",
          "name": "stdout",
          "text": [
            "how many rounds you want to play,enter number1\n",
            "--------------------------------------------------\n",
            "round :1\n",
            "Select action from list [ paper,rock,scissor]rock\n",
            "==================================================\n",
            "computer choice :Scissor\n",
            "player choice :rock\n",
            "==================================================\n",
            "player  win\n",
            "total scores\n",
            "**************************************************\n",
            "player win : 1 :0\n",
            "**************************************************\n"
          ]
        }
      ]
    },
    {
      "cell_type": "markdown",
      "metadata": {
        "id": "jdrYN0Xgp-D6"
      },
      "source": [
        "# Your first task \n",
        "\n",
        "Rachel asks you to write a program to track the name and revenue each employee brings.  \n",
        "\n",
        "* Create the \"salesperson_revenue\" dictionary to see the employee name as a key and the revenue as a value.\n",
        "\n",
        "  📌 Every employee starts with 0 revenue.\n",
        "* Define the \"enter_revenue\" function. \n",
        "\n",
        "  📌 The function takes the name and revenue as an argument and updates the salesperson_revenue dictionary.\n"
      ]
    },
    {
      "cell_type": "code",
      "source": [
        "#Create salesperson_revenue dictionary\n",
        "\n",
        "\n",
        "\n",
        "\n",
        "\n",
        "\n"
      ],
      "metadata": {
        "id": "3vzRo7hyMRv2"
      },
      "execution_count": null,
      "outputs": []
    },
    {
      "cell_type": "code",
      "source": [
        "#Define enter_revenue function\n",
        "\n"
      ],
      "metadata": {
        "id": "m-8IozBwMRzM"
      },
      "execution_count": null,
      "outputs": []
    },
    {
      "cell_type": "markdown",
      "source": [
        "####Try out the functions\n",
        "* In a while loop ask the user to give the name of the employee and for the revenue \n",
        "\n",
        "  📌 If the user enters “quit” the loop should break.\n",
        "\n",
        "After that, print out the salesperson_revenue dictionary.\n"
      ],
      "metadata": {
        "id": "UnTGSoNTi58u"
      }
    },
    {
      "cell_type": "code",
      "source": [
        "#Asking user employee name as input\n"
      ],
      "metadata": {
        "id": "2E549VvFXNi6"
      },
      "execution_count": null,
      "outputs": []
    },
    {
      "cell_type": "code",
      "source": [
        "#Print the salesperson_revenue dictionary\n"
      ],
      "metadata": {
        "id": "OAvl9rgOXPe6"
      },
      "execution_count": null,
      "outputs": []
    }
  ],
  "metadata": {
    "interpreter": {
      "hash": "c5914ae3790566b9cd0e984a9bdda42a29da8adf046b5ac0173e0d37aacf3dab"
    },
    "kernelspec": {
      "display_name": "Python 3.9.7",
      "language": "python",
      "name": "python3"
    },
    "language_info": {
      "codemirror_mode": {
        "name": "ipython",
        "version": 3
      },
      "file_extension": ".py",
      "mimetype": "text/x-python",
      "name": "python",
      "nbconvert_exporter": "python",
      "pygments_lexer": "ipython3",
      "version": "3.9.7"
    },
    "orig_nbformat": 4,
    "colab": {
      "provenance": [],
      "collapsed_sections": [],
      "include_colab_link": true
    }
  },
  "nbformat": 4,
  "nbformat_minor": 0
}